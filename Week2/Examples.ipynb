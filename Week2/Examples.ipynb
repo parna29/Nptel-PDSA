{
 "cells": [
  {
   "cell_type": "code",
   "execution_count": 13,
   "source": [
    "#factors of a number\r\n",
    "\r\n",
    "def factors(n):\r\n",
    "\r\n",
    "    flist = []\r\n",
    "    for i in range(1, n+1):\r\n",
    "        if n%i == 0:\r\n",
    "            flist = flist + [i]\r\n",
    "    return flist   \r\n",
    "\r\n",
    "print(factors(100))  \r\n",
    "print(factors(1))      "
   ],
   "outputs": [
    {
     "output_type": "stream",
     "name": "stdout",
     "text": [
      "[1, 2, 4, 5, 10, 20, 25, 50, 100]\n",
      "[1]\n"
     ]
    }
   ],
   "metadata": {}
  },
  {
   "cell_type": "code",
   "execution_count": 14,
   "source": [
    "#check prime number or not\r\n",
    "\r\n",
    "def isprime(n):\r\n",
    "    return(factors(n) == [1, n])\r\n",
    "\r\n",
    "print(isprime(4))    \r\n",
    "print(isprime(1))"
   ],
   "outputs": [
    {
     "output_type": "stream",
     "name": "stdout",
     "text": [
      "False\n",
      "False\n"
     ]
    }
   ],
   "metadata": {}
  },
  {
   "cell_type": "code",
   "execution_count": 15,
   "source": [
    "#list all prime numbers upto n\r\n",
    "\r\n",
    "def primesupto(n):\r\n",
    "    primelist = []\r\n",
    "    for i in range(1, n+1): #know in advance how much to scan. So use for loop\r\n",
    "        if isprime(i):\r\n",
    "            primelist = primelist + [i]\r\n",
    "    return primelist\r\n",
    "\r\n",
    "print(primesupto(14))"
   ],
   "outputs": [
    {
     "output_type": "stream",
     "name": "stdout",
     "text": [
      "[2, 3, 5, 7, 11, 13]\n"
     ]
    }
   ],
   "metadata": {}
  },
  {
   "cell_type": "code",
   "execution_count": 16,
   "source": [
    "#list first n primes\r\n",
    "\r\n",
    "def nprimes(n):\r\n",
    "    (count, i, plist) = (0, 1, [])\r\n",
    "    while(count < n): #don't know how many numbers to scan. So good to use while\r\n",
    "        if isprime(i):\r\n",
    "            (count, plist) = (count+1, plist + [i])\r\n",
    "        i = i + 1\r\n",
    "    return(plist)\r\n",
    "\r\n",
    "print(nprimes(4))  "
   ],
   "outputs": [
    {
     "output_type": "stream",
     "name": "stdout",
     "text": [
      "[2, 3, 5, 7]\n"
     ]
    }
   ],
   "metadata": {}
  },
  {
   "cell_type": "code",
   "execution_count": null,
   "source": [
    "#can use 'while' to simulate 'for'\r\n",
    "#example 1\r\n",
    "for n in range(i, j):\r\n",
    "    statement\r\n",
    "\r\n",
    "n = i\r\n",
    "while n < j:\r\n",
    "    statement\r\n",
    "    n = n + 1    "
   ],
   "outputs": [],
   "metadata": {}
  },
  {
   "cell_type": "code",
   "execution_count": null,
   "source": [
    "#example 2\r\n",
    "for n in l:\r\n",
    "    statement\r\n",
    "\r\n",
    "i = 0\r\n",
    "while i < len(l):\r\n",
    "    n = l[i]\r\n",
    "    statement\r\n",
    "    i = i + 1   "
   ],
   "outputs": [],
   "metadata": {}
  }
 ],
 "metadata": {
  "orig_nbformat": 4,
  "language_info": {
   "name": "python",
   "version": "3.8.8",
   "mimetype": "text/x-python",
   "codemirror_mode": {
    "name": "ipython",
    "version": 3
   },
   "pygments_lexer": "ipython3",
   "nbconvert_exporter": "python",
   "file_extension": ".py"
  },
  "kernelspec": {
   "name": "python3",
   "display_name": "Python 3.8.8 64-bit ('base': conda)"
  },
  "interpreter": {
   "hash": "6c7dc6fca203e8e2b68c8b661a9790380b4275b7e2034d2258f38a3f6183b1bb"
  }
 },
 "nbformat": 4,
 "nbformat_minor": 2
}