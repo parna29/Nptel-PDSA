{
 "cells": [
  {
   "cell_type": "code",
   "execution_count": null,
   "source": [
    "#shortcuts for conditions\r\n",
    "#Conditional execution\r\n",
    "#Example 1\r\n",
    "\r\n",
    "if m%n:\r\n",
    "    (m, n) = (n, m%n)\r\n",
    "else:\r\n",
    "    gcd = n  "
   ],
   "outputs": [],
   "metadata": {}
  },
  {
   "cell_type": "code",
   "execution_count": null,
   "source": [
    "#write it as\r\n",
    "\r\n",
    "if m%n != 0:\r\n",
    "    (m, n) = (n, m%n)\r\n",
    "else:\r\n",
    "    gcd = n"
   ],
   "outputs": [],
   "metadata": {}
  },
  {
   "cell_type": "code",
   "execution_count": null,
   "source": [
    "#Example 2\r\n",
    "#multiway branching, elif\r\n",
    "\r\n",
    "if x == 1:\r\n",
    "    y = f1(x)\r\n",
    "else:\r\n",
    "    if x == 2:\r\n",
    "        y = f2(x)\r\n",
    "    else:\r\n",
    "        if x == 3:\r\n",
    "            y = f3(x)\r\n",
    "        else:\r\n",
    "            y = f4(x) #code getting indented as it gets nested\r\n",
    "                      #ugly nesting   "
   ],
   "outputs": [],
   "metadata": {}
  },
  {
   "cell_type": "code",
   "execution_count": null,
   "source": [
    "#write it as\r\n",
    "if x == 1:\r\n",
    "    y = f1(x)\r\n",
    "elif x == 2:\r\n",
    "    y = f2(x)\r\n",
    "elif x == 3:\r\n",
    "    y = f3(x)\r\n",
    "else:\r\n",
    "    y = f4(x)       #replace nested else if by elif\r\n",
    "                    #more readable   "
   ],
   "outputs": [],
   "metadata": {}
  },
  {
   "cell_type": "code",
   "execution_count": null,
   "source": [
    "#loops\r\n",
    "for i in [1,2,...,n]\r\n",
    "\r\n",
    "#write as\r\n",
    "for i in range(0, n)"
   ],
   "outputs": [],
   "metadata": {}
  }
 ],
 "metadata": {
  "orig_nbformat": 4,
  "language_info": {
   "name": "python",
   "version": "3.8.8",
   "mimetype": "text/x-python",
   "codemirror_mode": {
    "name": "ipython",
    "version": 3
   },
   "pygments_lexer": "ipython3",
   "nbconvert_exporter": "python",
   "file_extension": ".py"
  },
  "kernelspec": {
   "name": "python3",
   "display_name": "Python 3.8.8 64-bit ('base': conda)"
  },
  "interpreter": {
   "hash": "6c7dc6fca203e8e2b68c8b661a9790380b4275b7e2034d2258f38a3f6183b1bb"
  }
 },
 "nbformat": 4,
 "nbformat_minor": 2
}