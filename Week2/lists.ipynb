{
 "cells": [
  {
   "cell_type": "code",
   "execution_count": 1,
   "source": [
    "factors = [1,2,5,10]\r\n",
    "names = ['Anand', 'Charles', 'Muqsit']\r\n",
    "mixed = [3, True, 'Yellow']"
   ],
   "outputs": [],
   "metadata": {}
  },
  {
   "cell_type": "code",
   "execution_count": 2,
   "source": [
    "#extract values by position\r\n",
    "factors[3], mixed[0:2]"
   ],
   "outputs": [
    {
     "output_type": "execute_result",
     "data": {
      "text/plain": [
       "(10, [3, True])"
      ]
     },
     "metadata": {},
     "execution_count": 2
    }
   ],
   "metadata": {}
  },
  {
   "cell_type": "code",
   "execution_count": 7,
   "source": [
    "len(names)"
   ],
   "outputs": [
    {
     "output_type": "execute_result",
     "data": {
      "text/plain": [
       "3"
      ]
     },
     "metadata": {},
     "execution_count": 7
    }
   ],
   "metadata": {}
  },
  {
   "cell_type": "code",
   "execution_count": 11,
   "source": [
    "h = 'hello'\r\n",
    "print(h[0], h[0:1])\r\n",
    "type(h[0]), type(h[0:1]) # for a string, both a single position and slice returns string"
   ],
   "outputs": [
    {
     "output_type": "stream",
     "name": "stdout",
     "text": [
      "h h\n"
     ]
    },
    {
     "output_type": "execute_result",
     "data": {
      "text/plain": [
       "(str, str)"
      ]
     },
     "metadata": {},
     "execution_count": 11
    }
   ],
   "metadata": {}
  },
  {
   "cell_type": "code",
   "execution_count": 17,
   "source": [
    "factors = [1,2,5,10]\r\n",
    "print(factors[0], factors[0:1]) #for list it's different from string\r\n",
    "type(factors[0]), type(factors[0:1])"
   ],
   "outputs": [
    {
     "output_type": "stream",
     "name": "stdout",
     "text": [
      "1 [1]\n"
     ]
    },
    {
     "output_type": "execute_result",
     "data": {
      "text/plain": [
       "(int, list)"
      ]
     },
     "metadata": {},
     "execution_count": 17
    }
   ],
   "metadata": {}
  },
  {
   "cell_type": "code",
   "execution_count": 25,
   "source": [
    "# nested lists\r\n",
    "nested = [ [2,[37]], 4, ['hello']] #3rd level nested list\r\n",
    "print(nested[0])\r\n",
    "print(nested[1])\r\n",
    "print(nested[2][0][3])\r\n",
    "print(nested[0][1:2])\r\n",
    "print(nested[2][0])"
   ],
   "outputs": [
    {
     "output_type": "stream",
     "name": "stdout",
     "text": [
      "[2, [37]]\n",
      "4\n",
      "l\n",
      "[[37]]\n",
      "hello\n"
     ]
    }
   ],
   "metadata": {}
  },
  {
   "cell_type": "code",
   "execution_count": 31,
   "source": [
    "#updating lists allowed\r\n",
    "nested = [ [2,[37]], 4, ['hello']]\r\n",
    "\r\n",
    "nested[1] = 7\r\n",
    "print(nested)\r\n",
    "\r\n",
    "nested[0][1][0] = 19\r\n",
    "print(nested) #lists are mutable"
   ],
   "outputs": [
    {
     "output_type": "stream",
     "name": "stdout",
     "text": [
      "[[2, [37]], 7, ['hello']]\n",
      "[[2, [19]], 7, ['hello']]\n"
     ]
    }
   ],
   "metadata": {}
  },
  {
   "cell_type": "code",
   "execution_count": 33,
   "source": [
    "x = 5\r\n",
    "y = x\r\n",
    "x = 7 \r\n",
    "print(x, y) #updation of x doesn't affect y"
   ],
   "outputs": [
    {
     "output_type": "stream",
     "name": "stdout",
     "text": [
      "7 5\n"
     ]
    }
   ],
   "metadata": {}
  },
  {
   "cell_type": "code",
   "execution_count": 35,
   "source": [
    "list1 = [1, 3, 5, 7]\r\n",
    "list2 = list1\r\n",
    "list1[2] = 4\r\n",
    "print(list1)\r\n",
    "print(list2) #mutable\r\n",
    "#list1 and list2 point towards same list"
   ],
   "outputs": [
    {
     "output_type": "stream",
     "name": "stdout",
     "text": [
      "[1, 3, 4, 7]\n",
      "[1, 3, 4, 7]\n"
     ]
    }
   ],
   "metadata": {}
  },
  {
   "cell_type": "code",
   "execution_count": 37,
   "source": [
    "#copying a list by slicing\r\n",
    "list1 = [1, 3, 5, 7]\r\n",
    "list2 = list1[:]\r\n",
    "list1[2] = 4\r\n",
    "print(list1)\r\n",
    "print(list2) #both variables point to different lists"
   ],
   "outputs": [
    {
     "output_type": "stream",
     "name": "stdout",
     "text": [
      "[1, 3, 4, 7]\n",
      "[1, 3, 5, 7]\n"
     ]
    }
   ],
   "metadata": {}
  },
  {
   "cell_type": "code",
   "execution_count": 45,
   "source": [
    "#digression on equality\r\n",
    "list1 = [1, 3, 5, 7]\r\n",
    "list2 = [1, 3, 5, 7]\r\n",
    "list3 = list2\r\n",
    "\r\n",
    "print(list1 == list2)\r\n",
    "print(list2 == list3)\r\n",
    "\r\n",
    "print(list1 is list2)\r\n",
    "print(list2 is list3)\r\n",
    "\r\n",
    "list2[2] = 4\r\n",
    "print(list1 == list2)\r\n",
    "print(list2 == list3)"
   ],
   "outputs": [
    {
     "output_type": "stream",
     "name": "stdout",
     "text": [
      "True\n",
      "True\n",
      "False\n",
      "True\n",
      "False\n",
      "True\n"
     ]
    }
   ],
   "metadata": {}
  },
  {
   "cell_type": "code",
   "execution_count": 47,
   "source": [
    "#concatenation\r\n",
    "list1 = [1, 3, 5, 7]\r\n",
    "list2 = [4, 5, 6, 8]\r\n",
    "list3 = list1 + list2\r\n",
    "list3"
   ],
   "outputs": [
    {
     "output_type": "execute_result",
     "data": {
      "text/plain": [
       "[1, 3, 5, 7, 4, 5, 6, 8]"
      ]
     },
     "metadata": {},
     "execution_count": 47
    }
   ],
   "metadata": {}
  },
  {
   "cell_type": "code",
   "execution_count": 51,
   "source": [
    "list1 = [1, 3, 5, 7]\r\n",
    "list2 = list1\r\n",
    "print(list1 is list2)\r\n",
    "\r\n",
    "list1 = list1 + [9]\r\n",
    "print(list1)\r\n",
    "print(list2) # + produces a new list (pointing to different location)\r\n",
    "#list1 and list2 don't point towards same object\r\n",
    "\r\n",
    "print(list1 is list2)"
   ],
   "outputs": [
    {
     "output_type": "stream",
     "name": "stdout",
     "text": [
      "True\n",
      "[1, 3, 5, 7, 9]\n",
      "[1, 3, 5, 7]\n",
      "False\n"
     ]
    }
   ],
   "metadata": {}
  },
  {
   "cell_type": "code",
   "execution_count": null,
   "source": [],
   "outputs": [],
   "metadata": {}
  }
 ],
 "metadata": {
  "orig_nbformat": 4,
  "language_info": {
   "name": "python",
   "version": "3.8.8",
   "mimetype": "text/x-python",
   "codemirror_mode": {
    "name": "ipython",
    "version": 3
   },
   "pygments_lexer": "ipython3",
   "nbconvert_exporter": "python",
   "file_extension": ".py"
  },
  "kernelspec": {
   "name": "python3",
   "display_name": "Python 3.8.8 64-bit ('base': conda)"
  },
  "interpreter": {
   "hash": "6c7dc6fca203e8e2b68c8b661a9790380b4275b7e2034d2258f38a3f6183b1bb"
  }
 },
 "nbformat": 4,
 "nbformat_minor": 2
}