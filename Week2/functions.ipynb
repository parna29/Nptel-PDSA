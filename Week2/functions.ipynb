{
 "cells": [
  {
   "cell_type": "code",
   "execution_count": 2,
   "source": [
    "#demonstrate mutable vs immutable behavior when calling a function\r\n",
    "\r\n",
    "def update(l, i, v):\r\n",
    "\r\n",
    "    if i >= 0 and i < len(l):\r\n",
    "        l[i] = v\r\n",
    "        return True\r\n",
    "    else:\r\n",
    "        v = v + 1\r\n",
    "        return False\r\n",
    "\r\n",
    "ns = [3, 11, 12] \r\n",
    "z = 8\r\n",
    "\r\n",
    "print(update(ns, 2, z))\r\n",
    "print(ns)\r\n",
    "\r\n",
    "ns = [3, 11, 12] \r\n",
    "print(update(ns, 4, z))\r\n",
    "print(ns)"
   ],
   "outputs": [
    {
     "output_type": "stream",
     "name": "stdout",
     "text": [
      "True\n",
      "[3, 11, 8]\n",
      "False\n",
      "[3, 11, 12]\n"
     ]
    }
   ],
   "metadata": {}
  },
  {
   "cell_type": "code",
   "execution_count": 1,
   "source": [
    "#scope of names \r\n",
    "\r\n",
    "def stupid(x):\r\n",
    "    n = 17\r\n",
    "    return x\r\n",
    "\r\n",
    "n = 7\r\n",
    "v = stupid(28)\r\n",
    "print(n)"
   ],
   "outputs": [
    {
     "output_type": "stream",
     "name": "stdout",
     "text": [
      "7\n"
     ]
    }
   ],
   "metadata": {}
  },
  {
   "cell_type": "code",
   "execution_count": 3,
   "source": [
    "#defining functions\r\n",
    "\r\n",
    "def f(x):\r\n",
    "    return g(x+1)\r\n",
    "\r\n",
    "def g(y):\r\n",
    "    return y+3\r\n",
    "\r\n",
    "z = f(77)     \r\n",
    "print(z) #1 function can call another before it has been defined"
   ],
   "outputs": [
    {
     "output_type": "stream",
     "name": "stdout",
     "text": [
      "81\n"
     ]
    }
   ],
   "metadata": {}
  },
  {
   "cell_type": "code",
   "execution_count": 4,
   "source": [
    "#what is not okay\r\n",
    "\r\n",
    "def f(x):\r\n",
    "    return g(x+1)\r\n",
    "\r\n",
    "z = f(77)\r\n",
    "\r\n",
    "def g(y):\r\n",
    "    return y+3 "
   ],
   "outputs": [],
   "metadata": {}
  },
  {
   "cell_type": "code",
   "execution_count": 8,
   "source": [
    "#recursive functions\r\n",
    "\r\n",
    "def factorial(n):\r\n",
    "    if n <= 0:\r\n",
    "        return 1  #base case\r\n",
    "    else:\r\n",
    "        val = n * factorial(n-1)\r\n",
    "        return val\r\n",
    "\r\n",
    "print(factorial(10))            "
   ],
   "outputs": [
    {
     "output_type": "stream",
     "name": "stdout",
     "text": [
      "3628800\n"
     ]
    }
   ],
   "metadata": {}
  }
 ],
 "metadata": {
  "orig_nbformat": 4,
  "language_info": {
   "name": "python",
   "version": "3.8.8",
   "mimetype": "text/x-python",
   "codemirror_mode": {
    "name": "ipython",
    "version": 3
   },
   "pygments_lexer": "ipython3",
   "nbconvert_exporter": "python",
   "file_extension": ".py"
  },
  "kernelspec": {
   "name": "python3",
   "display_name": "Python 3.8.8 64-bit ('base': conda)"
  },
  "interpreter": {
   "hash": "6c7dc6fca203e8e2b68c8b661a9790380b4275b7e2034d2258f38a3f6183b1bb"
  }
 },
 "nbformat": 4,
 "nbformat_minor": 2
}