{
 "cells": [
  {
   "cell_type": "code",
   "execution_count": 1,
   "source": [
    "class Node:\r\n",
    "    def __init__(self, initval=None):\r\n",
    "        self.value = initval #Unless specified by user, initval = None\r\n",
    "        self.next = None\r\n",
    "\r\n",
    "    def isempty(self):\r\n",
    "        return(self.value == None)  # for empty list value=None      "
   ],
   "outputs": [],
   "metadata": {}
  },
  {
   "cell_type": "code",
   "execution_count": 2,
   "source": [
    "l1 = Node() #create empty list\r\n",
    "l2 = Node(5)"
   ],
   "outputs": [],
   "metadata": {}
  },
  {
   "cell_type": "code",
   "execution_count": 3,
   "source": [
    "print(l1.isempty() == True)\r\n",
    "print(l2.isempty() == True)"
   ],
   "outputs": [
    {
     "output_type": "stream",
     "name": "stdout",
     "text": [
      "True\n",
      "False\n"
     ]
    }
   ],
   "metadata": {}
  },
  {
   "cell_type": "code",
   "execution_count": null,
   "source": [
    "#append a value v recursive call\r\n",
    "class Node:\r\n",
    "    def __init__(self, initval=None):\r\n",
    "        self.value = initval \r\n",
    "        self.next = None\r\n",
    "\r\n",
    "    def isempty(self):\r\n",
    "        return(self.value == None)\r\n",
    "\r\n",
    "    def append(self, v):\r\n",
    "        if self.isempty(): #empty list, then add value v\r\n",
    "            self.value = v\r\n",
    "\r\n",
    "        elif self.next == None: #basically it's the last element. so new node created of value v and this node made to point at new node \r\n",
    "            newnode = Node(v)\r\n",
    "            self.next = newnode \r\n",
    "\r\n",
    "        else:\r\n",
    "            self.next.append(v) #if node not last element, then recursive call\r\n",
    "\r\n",
    "        return()              "
   ],
   "outputs": [],
   "metadata": {}
  },
  {
   "cell_type": "code",
   "execution_count": null,
   "source": [
    "#append value iteratively\r\n",
    "class Node:\r\n",
    "    def __init__(self, initval=None):\r\n",
    "        self.value = initval \r\n",
    "        self.next = None\r\n",
    "\r\n",
    "    def isempty(self):\r\n",
    "        return(self.value == None)\r\n",
    "\r\n",
    "    def appendi(self, v):\r\n",
    "\r\n",
    "        if self.isempty(): \r\n",
    "            self.value = v\r\n",
    "            return()\r\n",
    "\r\n",
    "        temp = self #temporary pointer which points to current node\r\n",
    "        while temp.next != None: #keep shifting temp to next node, till last node is reach\r\n",
    "            temp = temp.next  \r\n",
    "\r\n",
    "        newnode = Node(v)\r\n",
    "        temp.next = newnode\r\n",
    "        \r\n",
    "        return()   "
   ],
   "outputs": [],
   "metadata": {}
  },
  {
   "cell_type": "code",
   "execution_count": null,
   "source": [
    "#insert value v at the beginning\r\n",
    "class Node:\r\n",
    "    def __init__(self, initval=None):\r\n",
    "        self.value = initval \r\n",
    "        self.next = None\r\n",
    "\r\n",
    "    def isempty(self):\r\n",
    "        return(self.value == None)\r\n",
    "\r\n",
    "    def insert(self, v):\r\n",
    "        \r\n",
    "        if self.isempty():\r\n",
    "            self.value = v\r\n",
    "            return ()\r\n",
    "\r\n",
    "        newnode = Node(v)\r\n",
    "\r\n",
    "        #Exchange values in self and newnode\r\n",
    "        (self.value, newnode.value) = (newnode.value, self.value)     \r\n",
    "        (self.next, newnode.next) = (newnode, self.next)       \r\n",
    "\r\n",
    "        return ()    "
   ],
   "outputs": [],
   "metadata": {}
  },
  {
   "cell_type": "code",
   "execution_count": null,
   "source": [
    "#delete a value v\r\n",
    "class Node:\r\n",
    "    def __init__(self, initval=None):\r\n",
    "        self.value = initval \r\n",
    "        self.next = None\r\n",
    "\r\n",
    "    def isempty(self):\r\n",
    "        return(self.value == None)\r\n",
    "\r\n",
    "    def delete(self, v):\r\n",
    "\r\n",
    "        if self.isempty(): #for empty list do nothing\r\n",
    "            return()\r\n",
    "\r\n",
    "        if self.value == v: #Tricky case: if 1st element has to be deleted\r\n",
    "            if self.next == None: #just set it's value to None\r\n",
    "                self.value = None \r\n",
    "            else:\r\n",
    "                self.value = self.next.value \r\n",
    "                self.next = self.next.next\r\n",
    "                return()\r\n",
    "\r\n",
    "        #code for multiple nodes\r\n",
    "        temp = self   \r\n",
    "        while temp.next != None:\r\n",
    "            if temp.next.value == x:\r\n",
    "                temp.next = temp.next.next\r\n",
    "                return() #till the end of list, if x not found, then just return\r\n",
    "            else:\r\n",
    "                temp = temp.next\r\n",
    "        return ()            "
   ],
   "outputs": [],
   "metadata": {}
  },
  {
   "cell_type": "code",
   "execution_count": null,
   "source": [
    "#delete a value v recursively\r\n",
    "class Node:\r\n",
    "    def __init__(self, initval=None):\r\n",
    "        self.value = initval \r\n",
    "        self.next = None\r\n",
    "\r\n",
    "    def isempty(self):\r\n",
    "        return(self.value == None)\r\n",
    "\r\n",
    "    def deleter(self, v):\r\n",
    "\r\n",
    "        if self.isempty(): #for empty list do nothing\r\n",
    "            return()\r\n",
    "\r\n",
    "        if self.value == v: #Tricky case: if 1st element has to be deleted\r\n",
    "            if self.next == None: #just set it's value to None\r\n",
    "                self.value = None \r\n",
    "            else:\r\n",
    "                self.value = self.next.value \r\n",
    "                self.next = self.next.next\r\n",
    "                return()\r\n",
    "\r\n",
    "        else: #recursive delete\r\n",
    "            if self.next != None:\r\n",
    "                self.next.deleter(v) \r\n",
    "                if self.next.value == None:\r\n",
    "                    self.next = self.next.next\r\n",
    "\r\n",
    "        return ()                   "
   ],
   "outputs": [],
   "metadata": {}
  },
  {
   "cell_type": "code",
   "execution_count": null,
   "source": [
    "#printing out the list\r\n",
    "class Node:\r\n",
    "    def __str__(self):\r\n",
    "        selflist = []\r\n",
    "\r\n",
    "        if self.value == None:\r\n",
    "            return(str(selflist))\r\n",
    "\r\n",
    "        temp = self\r\n",
    "        selflist.append(temp.value)\r\n",
    "\r\n",
    "        while temp.next != None:\r\n",
    "            temp = temp.next\r\n",
    "            selflist.append(temp.value)\r\n",
    "\r\n",
    "        return(str(selflist))        "
   ],
   "outputs": [],
   "metadata": {}
  },
  {
   "cell_type": "code",
   "execution_count": 13,
   "source": [
    "#Implementation\r\n",
    "class Node:\r\n",
    "    def __init__(self, initval=None):\r\n",
    "        self.value = initval \r\n",
    "        self.next = None\r\n",
    "\r\n",
    "    def isempty(self):\r\n",
    "        return(self.value == None)\r\n",
    "\r\n",
    "    def append(self, v):\r\n",
    "        if self.isempty(): \r\n",
    "            self.value = v\r\n",
    "\r\n",
    "        elif self.next == None: \r\n",
    "            newnode = Node(v)\r\n",
    "            self.next = newnode \r\n",
    "\r\n",
    "        else:\r\n",
    "            self.next.append(v)\r\n",
    "        return() \r\n",
    "\r\n",
    "    def insert(self, v):\r\n",
    "        \r\n",
    "        if self.isempty():\r\n",
    "            self.value = v\r\n",
    "            return ()\r\n",
    "\r\n",
    "        newnode = Node(v)\r\n",
    "\r\n",
    "        #Exchange values in self and newnode\r\n",
    "        (self.value, newnode.value) = (newnode.value, self.value)     \r\n",
    "        (self.next, newnode.next) = (newnode, self.next)       \r\n",
    "\r\n",
    "        return ()  \r\n",
    "        \r\n",
    "    def delete(self, v):\r\n",
    "\r\n",
    "        if self.isempty(): #for empty list do nothing\r\n",
    "            return()\r\n",
    "\r\n",
    "        if self.value == v: #Tricky case: if 1st element has to be deleted\r\n",
    "            if self.next == None: #just set it's value to None\r\n",
    "                self.value = None \r\n",
    "            else:\r\n",
    "                self.value = self.next.value \r\n",
    "                self.next = self.next.next\r\n",
    "                return()\r\n",
    "\r\n",
    "        else: #recursive delete\r\n",
    "            if self.next != None:\r\n",
    "                self.next.delete(v) \r\n",
    "                if self.next.value == None:\r\n",
    "                    self.next = self.next.next\r\n",
    "\r\n",
    "        return () \r\n",
    "        \r\n",
    "    def __str__(self):\r\n",
    "        selflist = []\r\n",
    "\r\n",
    "        if self.value == None:\r\n",
    "            return(str(selflist))\r\n",
    "\r\n",
    "        temp = self\r\n",
    "        selflist.append(temp.value)\r\n",
    "\r\n",
    "        while temp.next != None:\r\n",
    "            temp = temp.next\r\n",
    "            selflist.append(temp.value)\r\n",
    "\r\n",
    "        return(str(selflist))      \r\n"
   ],
   "outputs": [],
   "metadata": {}
  },
  {
   "cell_type": "code",
   "execution_count": 14,
   "source": [
    "l = Node(0)\r\n",
    "print(l)"
   ],
   "outputs": [
    {
     "output_type": "stream",
     "name": "stdout",
     "text": [
      "[0]\n"
     ]
    }
   ],
   "metadata": {}
  },
  {
   "cell_type": "code",
   "execution_count": 15,
   "source": [
    "for i in range(1, 11):\r\n",
    "    l.append(i)"
   ],
   "outputs": [],
   "metadata": {}
  },
  {
   "cell_type": "code",
   "execution_count": 16,
   "source": [
    "print(l)"
   ],
   "outputs": [
    {
     "output_type": "stream",
     "name": "stdout",
     "text": [
      "[0, 1, 2, 3, 4, 5, 6, 7, 8, 9, 10]\n"
     ]
    }
   ],
   "metadata": {}
  },
  {
   "cell_type": "code",
   "execution_count": 17,
   "source": [
    "l.delete(4)\r\n",
    "print(l)"
   ],
   "outputs": [
    {
     "output_type": "stream",
     "name": "stdout",
     "text": [
      "[0, 1, 2, 3, 5, 6, 7, 8, 9, 10]\n"
     ]
    }
   ],
   "metadata": {}
  },
  {
   "cell_type": "code",
   "execution_count": 18,
   "source": [
    "l.insert(12)\r\n",
    "print(l)"
   ],
   "outputs": [
    {
     "output_type": "stream",
     "name": "stdout",
     "text": [
      "[12, 0, 1, 2, 3, 5, 6, 7, 8, 9, 10]\n"
     ]
    }
   ],
   "metadata": {}
  },
  {
   "cell_type": "code",
   "execution_count": null,
   "source": [],
   "outputs": [],
   "metadata": {}
  }
 ],
 "metadata": {
  "orig_nbformat": 4,
  "language_info": {
   "name": "python",
   "version": "3.8.8",
   "mimetype": "text/x-python",
   "codemirror_mode": {
    "name": "ipython",
    "version": 3
   },
   "pygments_lexer": "ipython3",
   "nbconvert_exporter": "python",
   "file_extension": ".py"
  },
  "kernelspec": {
   "name": "python3",
   "display_name": "Python 3.8.8 64-bit ('base': conda)"
  },
  "interpreter": {
   "hash": "6c7dc6fca203e8e2b68c8b661a9790380b4275b7e2034d2258f38a3f6183b1bb"
  }
 },
 "nbformat": 4,
 "nbformat_minor": 2
}