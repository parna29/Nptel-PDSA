{
 "cells": [
  {
   "cell_type": "code",
   "execution_count": null,
   "source": [
    "class Tree:\r\n",
    "    def __init__(self, initval = None): #takes default value None\r\n",
    "        self.value = initval\r\n",
    "        if self.value: #create a single empty node denoting empty tree\r\n",
    "            self.left = Tree()\r\n",
    "            self.right = Tree()\r\n",
    "        else:           #if initval is None, then we get a tree with 3 nodes with 2 dummy nodes below\r\n",
    "            self.left = None\r\n",
    "            self.right = None\r\n",
    "        return ()\r\n",
    "\r\n",
    "    def isempty(self):\r\n",
    "        return(self.value == None) #If i start looking at a tree and the very first node says None, then that Tree is empty otherwise it is not empty"
   ],
   "outputs": [],
   "metadata": {}
  },
  {
   "cell_type": "code",
   "execution_count": null,
   "source": [
    "#Inorder Traversal\r\n",
    "    def inorder(self):\r\n",
    "        if self.isempty():\r\n",
    "            return([])\r\n",
    "        else:\r\n",
    "            return(\r\n",
    "                self.left.inorder()\r\n",
    "                + [self.value]\r\n",
    "                + self.right.inorder()\r\n",
    "            )  \r\n",
    "\r\n",
    "    def __str__(self):\r\n",
    "        return(str(self.inorder()))          "
   ],
   "outputs": [],
   "metadata": {}
  },
  {
   "cell_type": "code",
   "execution_count": null,
   "source": [
    "#find a value v\r\n",
    "    def find(self, v):\r\n",
    "\r\n",
    "        if self.isempty(): #if current node is empty, we cannot find it, hence False\r\n",
    "            return(False)\r\n",
    "\r\n",
    "        if self.value == v:\r\n",
    "            return(True)\r\n",
    "\r\n",
    "        if v < self.value:\r\n",
    "            return(self.left.find()) \r\n",
    "        else:\r\n",
    "            return(self.right.find())           "
   ],
   "outputs": [],
   "metadata": {}
  },
  {
   "cell_type": "code",
   "execution_count": null,
   "source": [
    "#find minimum value in a Tree - left most node in a tree\r\n",
    "#function called only when tree is non-empty - assumption\r\n",
    "    def minval(self):\r\n",
    "        if self.left == None:\r\n",
    "            return(self.value)\r\n",
    "        else:\r\n",
    "            return(self.left.minval())    "
   ],
   "outputs": [],
   "metadata": {}
  },
  {
   "cell_type": "code",
   "execution_count": null,
   "source": [
    "#find maximum value in a Tree - rightmost node in a tree\r\n",
    "    def maxval(self):\r\n",
    "        if self.right == None:\r\n",
    "            return(self.value)\r\n",
    "        else:\r\n",
    "            return(self.right.maxval())    "
   ],
   "outputs": [],
   "metadata": {}
  },
  {
   "cell_type": "code",
   "execution_count": null,
   "source": [
    "#Insert value v in the tree\r\n",
    "    def insert(self, v):\r\n",
    "        if self.isempty(): #add v as a new leaf\r\n",
    "            self.value = v\r\n",
    "            self.left = Tree()\r\n",
    "            self.right = Tree()\r\n",
    "\r\n",
    "        if self.value == v: #value found, do nothing\r\n",
    "            return\r\n",
    "\r\n",
    "        if v < self.value:\r\n",
    "            self.left.insert(v)\r\n",
    "            return\r\n",
    "\r\n",
    "        if v > self.value:\r\n",
    "            self.right.insert(v)\r\n",
    "            return"
   ],
   "outputs": [],
   "metadata": {}
  },
  {
   "cell_type": "code",
   "execution_count": null,
   "source": [
    "#delete value v in a tree\r\n",
    "    def delete(self, v):\r\n",
    "        if self.isempty():\r\n",
    "            return\r\n",
    "\r\n",
    "        if v < self.value: #If v is less than current node, go to left and delete\r\n",
    "            self.left.delete(v)\r\n",
    "            return  \r\n",
    "\r\n",
    "        if v > self.value:\r\n",
    "            self.right.delete(v)\r\n",
    "            return\r\n",
    "\r\n",
    "        if v == self.value:\r\n",
    "            if self.isleaf(): #if it's a leaf, then make it empty\r\n",
    "                self.makeempty()\r\n",
    "            elif self.left.isempty(): #it has only 1 child, right. left is empty\r\n",
    "                self.copyright()  \r\n",
    "            else:\r\n",
    "                self.value = self.left.maxval() #if left not empty, then copy max val from left and then del\r\n",
    "                self.left.delete(self.left.maxval())\r\n",
    "\r\n",
    "        return"
   ],
   "outputs": [],
   "metadata": {}
  },
  {
   "cell_type": "code",
   "execution_count": null,
   "source": [
    "def makeempty(self): #convert leaf to empty node\r\n",
    "    self.value = None\r\n",
    "    self.left = None\r\n",
    "    self.right = None\r\n",
    "    return\r\n",
    "\r\n",
    "def copyright(self): #copy right child values to current node\r\n",
    "    self.value = self.right.value\r\n",
    "    self.left = self.right.left\r\n",
    "    self.right = self.right.right\r\n",
    "    return    "
   ],
   "outputs": [],
   "metadata": {}
  },
  {
   "cell_type": "code",
   "execution_count": 1,
   "source": [
    "#Implementation\r\n",
    "class Tree:\r\n",
    "    def __init__(self, initval = None): #takes default value None\r\n",
    "        self.value = initval\r\n",
    "        if self.value: #create a single empty node denoting empty tree\r\n",
    "            self.left = Tree()\r\n",
    "            self.right = Tree()\r\n",
    "        else:           #if initval is None, then we get a tree with 3 nodes with 2 dummy nodes below\r\n",
    "            self.left = None\r\n",
    "            self.right = None\r\n",
    "        return\r\n",
    "\r\n",
    "    def isempty(self):\r\n",
    "        return(self.value == None)\r\n",
    "\r\n",
    "    def isleaf(self):\r\n",
    "        return(self.left.isempty() and self.right.isempty())\r\n",
    "\r\n",
    "    def makeempty(self): #convert leaf to empty node\r\n",
    "        self.value = None\r\n",
    "        self.left = None\r\n",
    "        self.right = None\r\n",
    "        return    \r\n",
    "\r\n",
    "    def copyright(self): #copy right child values to current node\r\n",
    "        self.value = self.right.value\r\n",
    "        self.left = self.right.left\r\n",
    "        self.right = self.right.right\r\n",
    "        return  \r\n",
    "\r\n",
    "    def find(self, v):\r\n",
    "\r\n",
    "        if self.isempty(): #if current node is empty, we cannot find it, hence False\r\n",
    "            return(False)\r\n",
    "\r\n",
    "        if self.value == v:\r\n",
    "            return(True)\r\n",
    "\r\n",
    "        if v < self.value:\r\n",
    "            return(self.left.find()) \r\n",
    "        else:\r\n",
    "            return(self.right.find())      \r\n",
    "\r\n",
    "    def insert(self, v):\r\n",
    "        if self.isempty(): #add v as a new leaf\r\n",
    "            self.value = v\r\n",
    "            self.left = Tree()\r\n",
    "            self.right = Tree()\r\n",
    "\r\n",
    "        if self.value == v: #value found, do nothing\r\n",
    "            return\r\n",
    "\r\n",
    "        if v < self.value:\r\n",
    "            self.left.insert(v)\r\n",
    "            return\r\n",
    "\r\n",
    "        if v > self.value:\r\n",
    "            self.right.insert(v)\r\n",
    "            return                  \r\n",
    "\r\n",
    "    def maxval(self):\r\n",
    "        if self.right == None:\r\n",
    "            return(self.value)\r\n",
    "        else:\r\n",
    "            return(self.right.maxval())   \r\n",
    "\r\n",
    "    def delete(self, v):\r\n",
    "        if self.isempty():\r\n",
    "            return\r\n",
    "\r\n",
    "        if v < self.value: #If v is less than current node, go to left and delete\r\n",
    "            self.left.delete(v)\r\n",
    "            return  \r\n",
    "\r\n",
    "        if v > self.value:\r\n",
    "            self.right.delete(v)\r\n",
    "            return\r\n",
    "\r\n",
    "        if v == self.value:\r\n",
    "            if self.isleaf(): #if it's a leaf, then make it empty\r\n",
    "                self.makeempty()\r\n",
    "            elif self.left.isempty(): #it has only 1 child, right. left is empty\r\n",
    "                self.copyright()  \r\n",
    "            else:\r\n",
    "                self.value = self.left.maxval() #if left not empty, then copy max val from left and then del\r\n",
    "                self.left.delete(self.left.maxval())\r\n",
    "\r\n",
    "        return  \r\n",
    "\r\n",
    "    def inorder(self):\r\n",
    "        if self.isempty():\r\n",
    "            return([])\r\n",
    "        else:\r\n",
    "            return(\r\n",
    "                self.left.inorder()\r\n",
    "                + [self.value]\r\n",
    "                + self.right.inorder()\r\n",
    "            )  \r\n",
    "\r\n",
    "    def __str__(self):\r\n",
    "        return(str(self.inorder()))                          "
   ],
   "outputs": [],
   "metadata": {}
  },
  {
   "cell_type": "code",
   "execution_count": 2,
   "source": [
    "t = Tree()"
   ],
   "outputs": [],
   "metadata": {}
  },
  {
   "cell_type": "code",
   "execution_count": 3,
   "source": [
    "for i in [1, 3, 2, 18, 7, 5, 4, 22, 14]:\r\n",
    "    t.insert(i)\r\n",
    "\r\n",
    "print(t)    "
   ],
   "outputs": [
    {
     "output_type": "stream",
     "name": "stdout",
     "text": [
      "[1, 2, 3, 4, 5, 7, 14, 18, 22]\n"
     ]
    }
   ],
   "metadata": {}
  },
  {
   "cell_type": "code",
   "execution_count": 4,
   "source": [
    "t.insert(17)\r\n",
    "print(t)"
   ],
   "outputs": [
    {
     "output_type": "stream",
     "name": "stdout",
     "text": [
      "[1, 2, 3, 4, 5, 7, 14, 17, 18, 22]\n"
     ]
    }
   ],
   "metadata": {}
  },
  {
   "cell_type": "code",
   "execution_count": 5,
   "source": [
    "t.insert(4.5)\r\n",
    "print(t)"
   ],
   "outputs": [
    {
     "output_type": "stream",
     "name": "stdout",
     "text": [
      "[1, 2, 3, 4, 4.5, 5, 7, 14, 17, 18, 22]\n"
     ]
    }
   ],
   "metadata": {}
  },
  {
   "cell_type": "code",
   "execution_count": 6,
   "source": [
    "t.delete(3)\r\n",
    "print(t)"
   ],
   "outputs": [
    {
     "output_type": "error",
     "ename": "TypeError",
     "evalue": "'<' not supported between instances of 'NoneType' and 'int'",
     "traceback": [
      "\u001b[1;31m---------------------------------------------------------------------------\u001b[0m",
      "\u001b[1;31mTypeError\u001b[0m                                 Traceback (most recent call last)",
      "\u001b[1;32m<ipython-input-6-f9b102ec128a>\u001b[0m in \u001b[0;36m<module>\u001b[1;34m\u001b[0m\n\u001b[1;32m----> 1\u001b[1;33m \u001b[0mt\u001b[0m\u001b[1;33m.\u001b[0m\u001b[0mdelete\u001b[0m\u001b[1;33m(\u001b[0m\u001b[1;36m3\u001b[0m\u001b[1;33m)\u001b[0m\u001b[1;33m\u001b[0m\u001b[1;33m\u001b[0m\u001b[0m\n\u001b[0m\u001b[0;32m      2\u001b[0m \u001b[0mprint\u001b[0m\u001b[1;33m(\u001b[0m\u001b[0mt\u001b[0m\u001b[1;33m)\u001b[0m\u001b[1;33m\u001b[0m\u001b[1;33m\u001b[0m\u001b[0m\n",
      "\u001b[1;32m<ipython-input-1-f452579dc31c>\u001b[0m in \u001b[0;36mdelete\u001b[1;34m(self, v)\u001b[0m\n\u001b[0;32m     74\u001b[0m \u001b[1;33m\u001b[0m\u001b[0m\n\u001b[0;32m     75\u001b[0m         \u001b[1;32mif\u001b[0m \u001b[0mv\u001b[0m \u001b[1;33m>\u001b[0m \u001b[0mself\u001b[0m\u001b[1;33m.\u001b[0m\u001b[0mvalue\u001b[0m\u001b[1;33m:\u001b[0m\u001b[1;33m\u001b[0m\u001b[1;33m\u001b[0m\u001b[0m\n\u001b[1;32m---> 76\u001b[1;33m             \u001b[0mself\u001b[0m\u001b[1;33m.\u001b[0m\u001b[0mright\u001b[0m\u001b[1;33m.\u001b[0m\u001b[0mdelete\u001b[0m\u001b[1;33m(\u001b[0m\u001b[0mv\u001b[0m\u001b[1;33m)\u001b[0m\u001b[1;33m\u001b[0m\u001b[1;33m\u001b[0m\u001b[0m\n\u001b[0m\u001b[0;32m     77\u001b[0m             \u001b[1;32mreturn\u001b[0m\u001b[1;33m\u001b[0m\u001b[1;33m\u001b[0m\u001b[0m\n\u001b[0;32m     78\u001b[0m \u001b[1;33m\u001b[0m\u001b[0m\n",
      "\u001b[1;32m<ipython-input-1-f452579dc31c>\u001b[0m in \u001b[0;36mdelete\u001b[1;34m(self, v)\u001b[0m\n\u001b[0;32m     84\u001b[0m             \u001b[1;32melse\u001b[0m\u001b[1;33m:\u001b[0m\u001b[1;33m\u001b[0m\u001b[1;33m\u001b[0m\u001b[0m\n\u001b[0;32m     85\u001b[0m                 \u001b[0mself\u001b[0m\u001b[1;33m.\u001b[0m\u001b[0mvalue\u001b[0m \u001b[1;33m=\u001b[0m \u001b[0mself\u001b[0m\u001b[1;33m.\u001b[0m\u001b[0mleft\u001b[0m\u001b[1;33m.\u001b[0m\u001b[0mmaxval\u001b[0m\u001b[1;33m(\u001b[0m\u001b[1;33m)\u001b[0m \u001b[1;31m#if left not empty, then copy max val from left and then del\u001b[0m\u001b[1;33m\u001b[0m\u001b[1;33m\u001b[0m\u001b[0m\n\u001b[1;32m---> 86\u001b[1;33m                 \u001b[0mself\u001b[0m\u001b[1;33m.\u001b[0m\u001b[0mleft\u001b[0m\u001b[1;33m.\u001b[0m\u001b[0mdelete\u001b[0m\u001b[1;33m(\u001b[0m\u001b[0mself\u001b[0m\u001b[1;33m.\u001b[0m\u001b[0mleft\u001b[0m\u001b[1;33m.\u001b[0m\u001b[0mmaxval\u001b[0m\u001b[1;33m(\u001b[0m\u001b[1;33m)\u001b[0m\u001b[1;33m)\u001b[0m\u001b[1;33m\u001b[0m\u001b[1;33m\u001b[0m\u001b[0m\n\u001b[0m\u001b[0;32m     87\u001b[0m \u001b[1;33m\u001b[0m\u001b[0m\n\u001b[0;32m     88\u001b[0m         \u001b[1;32mreturn\u001b[0m\u001b[1;33m\u001b[0m\u001b[1;33m\u001b[0m\u001b[0m\n",
      "\u001b[1;32m<ipython-input-1-f452579dc31c>\u001b[0m in \u001b[0;36mdelete\u001b[1;34m(self, v)\u001b[0m\n\u001b[0;32m     69\u001b[0m             \u001b[1;32mreturn\u001b[0m\u001b[1;33m\u001b[0m\u001b[1;33m\u001b[0m\u001b[0m\n\u001b[0;32m     70\u001b[0m \u001b[1;33m\u001b[0m\u001b[0m\n\u001b[1;32m---> 71\u001b[1;33m         \u001b[1;32mif\u001b[0m \u001b[0mv\u001b[0m \u001b[1;33m<\u001b[0m \u001b[0mself\u001b[0m\u001b[1;33m.\u001b[0m\u001b[0mvalue\u001b[0m\u001b[1;33m:\u001b[0m \u001b[1;31m#If v is less than current node, go to left and delete\u001b[0m\u001b[1;33m\u001b[0m\u001b[1;33m\u001b[0m\u001b[0m\n\u001b[0m\u001b[0;32m     72\u001b[0m             \u001b[0mself\u001b[0m\u001b[1;33m.\u001b[0m\u001b[0mleft\u001b[0m\u001b[1;33m.\u001b[0m\u001b[0mdelete\u001b[0m\u001b[1;33m(\u001b[0m\u001b[0mv\u001b[0m\u001b[1;33m)\u001b[0m\u001b[1;33m\u001b[0m\u001b[1;33m\u001b[0m\u001b[0m\n\u001b[0;32m     73\u001b[0m             \u001b[1;32mreturn\u001b[0m\u001b[1;33m\u001b[0m\u001b[1;33m\u001b[0m\u001b[0m\n",
      "\u001b[1;31mTypeError\u001b[0m: '<' not supported between instances of 'NoneType' and 'int'"
     ]
    }
   ],
   "metadata": {}
  },
  {
   "cell_type": "code",
   "execution_count": 7,
   "source": [
    "print(t)"
   ],
   "outputs": [
    {
     "output_type": "stream",
     "name": "stdout",
     "text": [
      "[1]\n"
     ]
    }
   ],
   "metadata": {}
  },
  {
   "cell_type": "code",
   "execution_count": null,
   "source": [],
   "outputs": [],
   "metadata": {}
  }
 ],
 "metadata": {
  "orig_nbformat": 4,
  "language_info": {
   "name": "python",
   "version": "3.8.8",
   "mimetype": "text/x-python",
   "codemirror_mode": {
    "name": "ipython",
    "version": 3
   },
   "pygments_lexer": "ipython3",
   "nbconvert_exporter": "python",
   "file_extension": ".py"
  },
  "kernelspec": {
   "name": "python3",
   "display_name": "Python 3.8.8 64-bit ('base': conda)"
  },
  "interpreter": {
   "hash": "6c7dc6fca203e8e2b68c8b661a9790380b4275b7e2034d2258f38a3f6183b1bb"
  }
 },
 "nbformat": 4,
 "nbformat_minor": 2
}