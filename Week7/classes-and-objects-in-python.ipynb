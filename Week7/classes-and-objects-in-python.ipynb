{
 "cells": [
  {
   "cell_type": "code",
   "execution_count": 7,
   "source": [
    "#translate point on a plane\r\n",
    "class Point:\r\n",
    "    def __init__(self, a, b):\r\n",
    "        self.x = a\r\n",
    "        self.y = b\r\n",
    "\r\n",
    "    def translate(self, deltax, deltay):\r\n",
    "        self.x += deltax\r\n",
    "        self.y += deltay\r\n",
    "        return(self.x, self.y)    "
   ],
   "outputs": [],
   "metadata": {}
  },
  {
   "cell_type": "code",
   "execution_count": 8,
   "source": [
    "p = Point(3, 2)\r\n",
    "p.translate(2,1)"
   ],
   "outputs": [
    {
     "output_type": "execute_result",
     "data": {
      "text/plain": [
       "(5, 3)"
      ]
     },
     "metadata": {},
     "execution_count": 8
    }
   ],
   "metadata": {}
  },
  {
   "cell_type": "code",
   "execution_count": 9,
   "source": [
    "#compute distance from origin\r\n",
    "from math import *\r\n",
    "class Point:\r\n",
    "    def __init__(self, a, b):\r\n",
    "        self.x = a\r\n",
    "        self.y = b\r\n",
    "\r\n",
    "    def odistance(self):\r\n",
    "        return(sqrt(self.x*self.x+self.y*self.y))   "
   ],
   "outputs": [],
   "metadata": {}
  },
  {
   "cell_type": "code",
   "execution_count": 10,
   "source": [
    "p = Point(3,4)\r\n",
    "p.odistance()"
   ],
   "outputs": [
    {
     "output_type": "execute_result",
     "data": {
      "text/plain": [
       "5.0"
      ]
     },
     "metadata": {},
     "execution_count": 10
    }
   ],
   "metadata": {}
  },
  {
   "cell_type": "code",
   "execution_count": null,
   "source": [
    "#polar coordinates\r\n",
    "class Point:\r\n",
    "    def __init__(self, a, b):\r\n",
    "        self.r = sqrt(a*a + b*b)\r\n",
    "        if a == 0:\r\n",
    "            self.theta = 0\r\n",
    "        else:\r\n",
    "            self.theta = atan(b/a) #python function for inverse, arctan\r\n",
    "\r\n",
    "    def odistance(self):\r\n",
    "        return(self.r)\r\n",
    "\r\n",
    "    def translate(self, deltax, deltay): #trade-off. for odistance (r,theta) is better, for translate (x,y) is better\r\n",
    "        #convert (r,theta) to (x,y) and back!       \r\n",
    "\r\n",
    "#private implementation has changed\r\n",
    "#Functionality of public interface remains the same         "
   ],
   "outputs": [],
   "metadata": {}
  },
  {
   "cell_type": "code",
   "execution_count": null,
   "source": [
    "#default arguments\r\n",
    "class Point:\r\n",
    "    def __init__(self, a=0, b=0):\r\n",
    "        self.x = a\r\n",
    "        self.y = b\r\n",
    "\r\n",
    "        . . . \r\n",
    "\r\n",
    "p1 = Point(3, 4) #point at (3,4) \r\n",
    "p2 = Point() #point at (0,0)       "
   ],
   "outputs": [],
   "metadata": {}
  },
  {
   "cell_type": "code",
   "execution_count": 90,
   "source": [
    "#special functions\r\n",
    "from math import *\r\n",
    "class Point:\r\n",
    "    def __init__(self, a, b):\r\n",
    "        self.x = a\r\n",
    "        self.y = b\r\n",
    "\r\n",
    "    def __str__(self): #Invoked implicitly by print()\r\n",
    "        return('({},{})'.format(self.x, self.y))\r\n",
    "\r\n",
    "    def __add__(self, p): #Invoked implicitly by +. It's upto us to define it's body\r\n",
    "        return(Point(self.x+p.x, self.y+p.y)) \r\n",
    "\r\n",
    "    def __mul__(self, p):\r\n",
    "        return(Point(self.x*p.x, self.y*p.y))\r\n",
    "\r\n",
    "    def __lt__(self, p):\r\n",
    "        return(Point(self.x<p.x, self.y<p.y))  \r\n",
    "\r\n",
    "    def __gt__(self, p):\r\n",
    "        return(Point(self.x>p.x, self.y>p.y))  \r\n",
    "\r\n",
    "    def __le__(self, p):\r\n",
    "        return(Point(self.x<=p.x, self.y<=p.y))          \r\n",
    "              "
   ],
   "outputs": [],
   "metadata": {}
  },
  {
   "cell_type": "code",
   "execution_count": 35,
   "source": [
    "p = Point(1,2)\r\n",
    "print(p) #internally calls str()"
   ],
   "outputs": [
    {
     "output_type": "stream",
     "name": "stdout",
     "text": [
      "(1,2)\n"
     ]
    }
   ],
   "metadata": {}
  },
  {
   "cell_type": "code",
   "execution_count": 36,
   "source": [
    "str(p) #convert object to string forcefully/make it happen "
   ],
   "outputs": [
    {
     "output_type": "execute_result",
     "data": {
      "text/plain": [
       "'(1,2)'"
      ]
     },
     "metadata": {},
     "execution_count": 36
    }
   ],
   "metadata": {}
  },
  {
   "cell_type": "code",
   "execution_count": 37,
   "source": [
    "'{}'.format(p)"
   ],
   "outputs": [
    {
     "output_type": "execute_result",
     "data": {
      "text/plain": [
       "'(1,2)'"
      ]
     },
     "metadata": {},
     "execution_count": 37
    }
   ],
   "metadata": {}
  },
  {
   "cell_type": "code",
   "execution_count": 91,
   "source": [
    "p1 = Point(1,2)\r\n",
    "p2 = Point(2,5)\r\n",
    "p3 = p1 + p2 #dunder __add__() invoked\r\n",
    "print(p3)"
   ],
   "outputs": [
    {
     "output_type": "stream",
     "name": "stdout",
     "text": [
      "(3,7)\n"
     ]
    }
   ],
   "metadata": {}
  },
  {
   "cell_type": "code",
   "execution_count": 94,
   "source": [
    "print(p1 * p2)\r\n",
    "print(p1 < p2)\r\n",
    "print(p1 > p2)\r\n",
    "print(p1 <= p2)"
   ],
   "outputs": [
    {
     "output_type": "stream",
     "name": "stdout",
     "text": [
      "(2,10)\n",
      "(True,True)\n",
      "(False,False)\n",
      "(True,True)\n"
     ]
    }
   ],
   "metadata": {}
  },
  {
   "cell_type": "code",
   "execution_count": null,
   "source": [],
   "outputs": [],
   "metadata": {}
  }
 ],
 "metadata": {
  "orig_nbformat": 4,
  "language_info": {
   "name": "python",
   "version": "3.8.8",
   "mimetype": "text/x-python",
   "codemirror_mode": {
    "name": "ipython",
    "version": 3
   },
   "pygments_lexer": "ipython3",
   "nbconvert_exporter": "python",
   "file_extension": ".py"
  },
  "kernelspec": {
   "name": "python3",
   "display_name": "Python 3.8.8 64-bit ('base': conda)"
  },
  "interpreter": {
   "hash": "6c7dc6fca203e8e2b68c8b661a9790380b4275b7e2034d2258f38a3f6183b1bb"
  }
 },
 "nbformat": 4,
 "nbformat_minor": 2
}