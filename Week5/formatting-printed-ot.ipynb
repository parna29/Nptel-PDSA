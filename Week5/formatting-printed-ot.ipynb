{
 "cells": [
  {
   "cell_type": "code",
   "execution_count": 2,
   "source": [
    "#format()\r\n",
    "\r\n",
    "print('First: {0}, second: {1}'.format(47, 11))\r\n",
    "print('Second: {1}, first: {0}'.format(47, 11))"
   ],
   "outputs": [
    {
     "output_type": "stream",
     "name": "stdout",
     "text": [
      "First: 47, second: 11\n",
      "Second: 11, first: 47\n"
     ]
    }
   ],
   "metadata": {}
  },
  {
   "cell_type": "code",
   "execution_count": 5,
   "source": [
    "print('One: {f}, two: {s}'.format(f=47, s=11))\r\n",
    "print('One: {f}, two: {s}'.format(s=11, f=47)) #can replace arguments with name"
   ],
   "outputs": [
    {
     "output_type": "stream",
     "name": "stdout",
     "text": [
      "One: 47, two: 11\n",
      "One: 47, two: 11\n"
     ]
    }
   ],
   "metadata": {}
  },
  {
   "cell_type": "code",
   "execution_count": 8,
   "source": [
    "#real formatting\r\n",
    "\r\n",
    "print('Value: {0:0d}'.format(4))\r\n",
    "print('Value: {0:1d}'.format(4))\r\n",
    "print('Value: {0:2d}'.format(4))\r\n",
    "print('Value: {0:3d}'.format(4))"
   ],
   "outputs": [
    {
     "output_type": "stream",
     "name": "stdout",
     "text": [
      "Value: 4\n",
      "Value: 4\n",
      "Value:  4\n",
      "Value:   4\n"
     ]
    }
   ],
   "metadata": {}
  },
  {
   "cell_type": "code",
   "execution_count": 9,
   "source": [
    "print('Value: {0:6.2f}'.format(47.523))"
   ],
   "outputs": [
    {
     "output_type": "stream",
     "name": "stdout",
     "text": [
      "Value:  47.52\n"
     ]
    }
   ],
   "metadata": {}
  },
  {
   "cell_type": "code",
   "execution_count": null,
   "source": [],
   "outputs": [],
   "metadata": {}
  }
 ],
 "metadata": {
  "orig_nbformat": 4,
  "language_info": {
   "name": "python",
   "version": "3.8.8",
   "mimetype": "text/x-python",
   "codemirror_mode": {
    "name": "ipython",
    "version": 3
   },
   "pygments_lexer": "ipython3",
   "nbconvert_exporter": "python",
   "file_extension": ".py"
  },
  "kernelspec": {
   "name": "python3",
   "display_name": "Python 3.8.8 64-bit ('base': conda)"
  },
  "interpreter": {
   "hash": "6c7dc6fca203e8e2b68c8b661a9790380b4275b7e2034d2258f38a3f6183b1bb"
  }
 },
 "nbformat": 4,
 "nbformat_minor": 2
}