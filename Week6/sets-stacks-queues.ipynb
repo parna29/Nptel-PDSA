{
 "cells": [
  {
   "cell_type": "code",
   "execution_count": 2,
   "source": [
    "#sets\r\n",
    "colors = {'red', 'black', 'red', 'green'}\r\n",
    "print(colors)\r\n",
    "print('black' in colors)"
   ],
   "outputs": [
    {
     "output_type": "stream",
     "name": "stdout",
     "text": [
      "{'black', 'red', 'green'}\n",
      "True\n"
     ]
    }
   ],
   "metadata": {}
  },
  {
   "cell_type": "code",
   "execution_count": null,
   "source": [
    "#create empty set\r\n",
    "colors = set()"
   ],
   "outputs": [],
   "metadata": {}
  },
  {
   "cell_type": "code",
   "execution_count": 3,
   "source": [
    "#convert a list into a set\r\n",
    "numbers = set([0, 1, 3, 2, 1, 4])\r\n",
    "print(numbers) #order of printing need not be same as order of providing input"
   ],
   "outputs": [
    {
     "output_type": "stream",
     "name": "stdout",
     "text": [
      "{0, 1, 2, 3, 4}\n"
     ]
    }
   ],
   "metadata": {}
  },
  {
   "cell_type": "code",
   "execution_count": 4,
   "source": [
    "letters = set('banana') #string is a list of characters\r\n",
    "print(letters)"
   ],
   "outputs": [
    {
     "output_type": "stream",
     "name": "stdout",
     "text": [
      "{'b', 'n', 'a'}\n"
     ]
    }
   ],
   "metadata": {}
  },
  {
   "cell_type": "code",
   "execution_count": 9,
   "source": [
    "#set operations\r\n",
    "odd = set([1, 3, 5, 7, 9, 11])\r\n",
    "prime = set([2, 3, 5, 7, 11])\r\n",
    "\r\n",
    "print(odd | prime) #union of sets\r\n",
    "print(odd & prime) #intersection\r\n",
    "print(odd - prime) #difference\r\n",
    "print(odd ^ prime) #exclusive. elements which are only in 1 of the 2 sets"
   ],
   "outputs": [
    {
     "output_type": "stream",
     "name": "stdout",
     "text": [
      "{1, 2, 3, 5, 7, 9, 11}\n",
      "{11, 3, 5, 7}\n",
      "{1, 9}\n",
      "{1, 2, 9}\n"
     ]
    }
   ],
   "metadata": {}
  },
  {
   "cell_type": "code",
   "execution_count": null,
   "source": [],
   "outputs": [],
   "metadata": {}
  }
 ],
 "metadata": {
  "orig_nbformat": 4,
  "language_info": {
   "name": "python",
   "version": "3.8.8",
   "mimetype": "text/x-python",
   "codemirror_mode": {
    "name": "ipython",
    "version": 3
   },
   "pygments_lexer": "ipython3",
   "nbconvert_exporter": "python",
   "file_extension": ".py"
  },
  "kernelspec": {
   "name": "python3",
   "display_name": "Python 3.8.8 64-bit ('base': conda)"
  },
  "interpreter": {
   "hash": "6c7dc6fca203e8e2b68c8b661a9790380b4275b7e2034d2258f38a3f6183b1bb"
  }
 },
 "nbformat": 4,
 "nbformat_minor": 2
}