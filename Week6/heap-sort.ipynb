{
 "cells": [
  {
   "cell_type": "code",
   "execution_count": 1,
   "source": [
    "# Function to heapify subtree rooted at index i\r\n",
    "# n is size of heap\r\n",
    "def heapify(arr, n, i):\r\n",
    "    largest = i #initialize largest as root\r\n",
    "    l = 2*i + 1\r\n",
    "    r = 2*i + 2\r\n",
    "\r\n",
    "    if l < n and arr[largest] < arr[l]: #check if left child of root exists and is greater than root\r\n",
    "        largest = l\r\n",
    "\r\n",
    "    if r < n and arr[largest] < arr[r]: #check same for right\r\n",
    "        largest = r\r\n",
    "\r\n",
    "    if largest != i: #change root if needed\r\n",
    "        (arr[i], arr[largest]) = (arr[largest], arr[i]) #swap\r\n",
    "        heapify(arr, n, largest) #heapify the root\r\n",
    "\r\n",
    "\r\n",
    "#main function to sort an array of given size\r\n",
    "def heapsort(arr):\r\n",
    "    n = len(arr)\r\n",
    "\r\n",
    "    for i in range(n//2 - 1, -1, -1 ): #build a heap\r\n",
    "        heapify(arr, n, i)\r\n",
    "\r\n",
    "    for i in range(n-1, 0, -1): #one by one extract elements\r\n",
    "        (arr[i], arr[0]) = (arr[0], arr[i]) #swap\r\n",
    "        heapify(arr, i, 0)"
   ],
   "outputs": [],
   "metadata": {}
  },
  {
   "cell_type": "code",
   "execution_count": 2,
   "source": [
    "arr = [12, 11, 13, 5, 6, 7]\r\n",
    "heapsort(arr)"
   ],
   "outputs": [],
   "metadata": {}
  },
  {
   "cell_type": "code",
   "execution_count": 3,
   "source": [
    "print(arr)"
   ],
   "outputs": [
    {
     "output_type": "stream",
     "name": "stdout",
     "text": [
      "[5, 6, 7, 11, 12, 13]\n"
     ]
    }
   ],
   "metadata": {}
  },
  {
   "cell_type": "code",
   "execution_count": null,
   "source": [],
   "outputs": [],
   "metadata": {}
  }
 ],
 "metadata": {
  "orig_nbformat": 4,
  "language_info": {
   "name": "python",
   "version": "3.8.8",
   "mimetype": "text/x-python",
   "codemirror_mode": {
    "name": "ipython",
    "version": 3
   },
   "pygments_lexer": "ipython3",
   "nbconvert_exporter": "python",
   "file_extension": ".py"
  },
  "kernelspec": {
   "name": "python3",
   "display_name": "Python 3.8.8 64-bit ('base': conda)"
  },
  "interpreter": {
   "hash": "6c7dc6fca203e8e2b68c8b661a9790380b4275b7e2034d2258f38a3f6183b1bb"
  }
 },
 "nbformat": 4,
 "nbformat_minor": 2
}