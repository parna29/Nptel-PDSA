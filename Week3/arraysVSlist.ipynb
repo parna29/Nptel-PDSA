{
 "cells": [
  {
   "cell_type": "code",
   "execution_count": null,
   "source": [
    "#Search for value 'v' in sequence\r\n",
    "\r\n",
    "#unsorted case\r\n",
    "def search(seq, v):\r\n",
    "    for x in seq:\r\n",
    "        if x in v:\r\n",
    "            return True #if v found, then loop exits here\r\n",
    "    return False        "
   ],
   "outputs": [],
   "metadata": {}
  },
  {
   "cell_type": "code",
   "execution_count": 1,
   "source": [
    "#binary search on sorted array\r\n",
    "def bsearch(seq, v, l, r):\r\n",
    "\r\n",
    "    if (r-l == 0):\r\n",
    "        return False\r\n",
    "\r\n",
    "    mid = (r + l)//2\r\n",
    "\r\n",
    "    if (v == seq[mid]):\r\n",
    "        return True\r\n",
    "\r\n",
    "    if (v < seq[mid]):\r\n",
    "        return bsearch(seq, v, l, mid)\r\n",
    "    else:\r\n",
    "        return bsearch(seq, v, mid+1, r)#v is not equal to seq[mid], that's why start from mid+1  "
   ],
   "outputs": [],
   "metadata": {}
  },
  {
   "cell_type": "code",
   "execution_count": 2,
   "source": [
    "l = []\r\n",
    "bsearch(l, 4, 0, len(l))"
   ],
   "outputs": [
    {
     "output_type": "execute_result",
     "data": {
      "text/plain": [
       "False"
      ]
     },
     "metadata": {},
     "execution_count": 2
    }
   ],
   "metadata": {}
  },
  {
   "cell_type": "code",
   "execution_count": 3,
   "source": [
    "l = list(range(20))\r\n",
    "bsearch(l, 3, 0, len(l))"
   ],
   "outputs": [
    {
     "output_type": "execute_result",
     "data": {
      "text/plain": [
       "True"
      ]
     },
     "metadata": {},
     "execution_count": 3
    }
   ],
   "metadata": {}
  },
  {
   "cell_type": "code",
   "execution_count": null,
   "source": [],
   "outputs": [],
   "metadata": {}
  }
 ],
 "metadata": {
  "orig_nbformat": 4,
  "language_info": {
   "name": "python",
   "version": "3.8.8",
   "mimetype": "text/x-python",
   "codemirror_mode": {
    "name": "ipython",
    "version": 3
   },
   "pygments_lexer": "ipython3",
   "nbconvert_exporter": "python",
   "file_extension": ".py"
  },
  "kernelspec": {
   "name": "python3",
   "display_name": "Python 3.8.8 64-bit ('base': conda)"
  },
  "interpreter": {
   "hash": "6c7dc6fca203e8e2b68c8b661a9790380b4275b7e2034d2258f38a3f6183b1bb"
  }
 },
 "nbformat": 4,
 "nbformat_minor": 2
}