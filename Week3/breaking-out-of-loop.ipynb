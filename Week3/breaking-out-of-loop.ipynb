{
 "cells": [
  {
   "cell_type": "code",
   "execution_count": null,
   "source": [
    "#search for value in a list\r\n",
    "def findpos(l, v):\r\n",
    "    #return 1st pos of v in l\r\n",
    "    #return -1 if v not in l\r\n",
    "    (found, i) = (False, 0)\r\n",
    "    while i < len(l):  #loop will run over entire length of list unnecessarily, even if value is found\r\n",
    "        if l[i] == v:  #problematic for large lists\r\n",
    "            (found, pos) = (True, i)  #also, if there are multiple occurrences of v, pos will get updated and finally it returns rightmost value\r\n",
    "    if not found:\r\n",
    "        pos = -1\r\n",
    "    return(pos)            "
   ],
   "outputs": [],
   "metadata": {}
  },
  {
   "cell_type": "code",
   "execution_count": null,
   "source": [
    "def findpos(l, v):\r\n",
    "    #return 1st pos of v in l\r\n",
    "    #return -1 if v not in l\r\n",
    "    (found, i) = (False, 0)\r\n",
    "    while i < len(l):  \r\n",
    "        if not found and l[i] == v:   #this will ensure 1st occurrence of v is returned\r\n",
    "            (found, pos) = (True, i)  \r\n",
    "    if not found:\r\n",
    "        pos = -1\r\n",
    "    return(pos)   "
   ],
   "outputs": [],
   "metadata": {}
  },
  {
   "cell_type": "code",
   "execution_count": null,
   "source": [
    "#natural strategy, break statement\r\n",
    "def findpos(l, v):\r\n",
    "    (pos, i) = (-1, 0)\r\n",
    "    for x in l:\r\n",
    "        if x == v:\r\n",
    "            pos = i\r\n",
    "            break\r\n",
    "        i = i + 1 \r\n",
    "\r\n",
    "    return(pos)    "
   ],
   "outputs": [],
   "metadata": {}
  },
  {
   "cell_type": "code",
   "execution_count": null,
   "source": [
    "#It's better to iterate over index rather than elements\r\n",
    "def findpos(l ,v):\r\n",
    "    pos = -1\r\n",
    "    for i in range(len(l)):\r\n",
    "        if l[i] == v:\r\n",
    "            pos = i\r\n",
    "            break    #here break executed for every value of i, even last value\r\n",
    "    return(pos)      #question is whether we broke out of the loop or terminate separately"
   ],
   "outputs": [],
   "metadata": {}
  },
  {
   "cell_type": "code",
   "execution_count": 1,
   "source": [
    "def findpos(l, v):\r\n",
    "    for i in range(len(l)):\r\n",
    "        if l[i] == v:\r\n",
    "            pos = i\r\n",
    "            #print('i {}'.format(i))\r\n",
    "            break\r\n",
    "        #print('hello {}'.format(i))\r\n",
    "    else:\r\n",
    "        pos = -1 #else executed when for loop terminated normally\\no break\r\n",
    "    return(pos)  #in case of for-else it iterated through entire length \r\n",
    "                 #in case of while-else, while condition will become false\r\n",
    "\r\n",
    "\r\n",
    "print(findpos(list(range(20)), 3))\r\n"
   ],
   "outputs": [
    {
     "output_type": "stream",
     "name": "stdout",
     "text": [
      "3\n"
     ]
    }
   ],
   "metadata": {}
  }
 ],
 "metadata": {
  "orig_nbformat": 4,
  "language_info": {
   "name": "python",
   "version": "3.8.8",
   "mimetype": "text/x-python",
   "codemirror_mode": {
    "name": "ipython",
    "version": 3
   },
   "pygments_lexer": "ipython3",
   "nbconvert_exporter": "python",
   "file_extension": ".py"
  },
  "kernelspec": {
   "name": "python3",
   "display_name": "Python 3.8.8 64-bit ('base': conda)"
  },
  "interpreter": {
   "hash": "6c7dc6fca203e8e2b68c8b661a9790380b4275b7e2034d2258f38a3f6183b1bb"
  }
 },
 "nbformat": 4,
 "nbformat_minor": 2
}