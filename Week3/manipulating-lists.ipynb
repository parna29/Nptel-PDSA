{
 "cells": [
  {
   "cell_type": "code",
   "execution_count": 1,
   "source": [
    "#lists are mutable\r\n",
    "\r\n",
    "list1 = [1, 3, 5, 6]\r\n",
    "list2 = list1\r\n",
    "list1[2] = 7\r\n",
    "print(list1)\r\n",
    "print(list2)"
   ],
   "outputs": [
    {
     "output_type": "stream",
     "name": "stdout",
     "text": [
      "[1, 3, 7, 6]\n",
      "[1, 3, 7, 6]\n"
     ]
    }
   ],
   "metadata": {}
  },
  {
   "cell_type": "code",
   "execution_count": 2,
   "source": [
    "list1 = [1, 3, 5, 6]\r\n",
    "list2 = list1\r\n",
    "list1 = list1[0:2] + [7] + list1[3:]\r\n",
    "print(list1)\r\n",
    "print(list2)"
   ],
   "outputs": [
    {
     "output_type": "stream",
     "name": "stdout",
     "text": [
      "[1, 3, 7, 6]\n",
      "[1, 3, 5, 6]\n"
     ]
    }
   ],
   "metadata": {}
  },
  {
   "cell_type": "code",
   "execution_count": 2,
   "source": [
    "#reassignment in function\r\n",
    "list1 = [1, 3, 5, 7]\r\n",
    "def reassignment(l1):\r\n",
    "    l2 = l1\r\n",
    "    l1[2] = 4\r\n",
    "    return l1, l2\r\n",
    "\r\n",
    "print(reassignment(list1))\r\n",
    "\r\n",
    "list1 = [1, 3, 5, 7]\r\n",
    "def reassignmentPlus(l1):\r\n",
    "    l2 = l1\r\n",
    "    l1 = l1[0:2] + [4] + l1[3:] #not reflected outside of function\r\n",
    "    return(l1, l2)\r\n",
    "\r\n",
    "print(reassignmentPlus(list1))  "
   ],
   "outputs": [
    {
     "output_type": "stream",
     "name": "stdout",
     "text": [
      "([1, 3, 4, 7], [1, 3, 4, 7])\n",
      "([1, 3, 4, 7], [1, 3, 5, 7])\n"
     ]
    }
   ],
   "metadata": {}
  },
  {
   "cell_type": "code",
   "execution_count": 9,
   "source": [
    "#extending a list\r\n",
    "\r\n",
    "list1 = [1, 3, 5, 6]\r\n",
    "list2 = list1\r\n",
    "list1.append(12) #append doesn't create new list \r\n",
    "print(list1) \r\n",
    "print(list2)"
   ],
   "outputs": [
    {
     "output_type": "stream",
     "name": "stdout",
     "text": [
      "[1, 3, 5, 6, 12]\n",
      "[1, 3, 5, 6, 12]\n"
     ]
    }
   ],
   "metadata": {}
  },
  {
   "cell_type": "code",
   "execution_count": 16,
   "source": [
    "list1 = list(range(10))\r\n",
    "print(list1)\r\n",
    "\r\n",
    "list1.append(12)\r\n",
    "print(list1)\r\n",
    "\r\n",
    "list1.extend([13, 14])\r\n",
    "print(list1)\r\n",
    "\r\n",
    "list2 = list1 + list1\r\n",
    "print(list2)\r\n",
    "\r\n",
    "list2.remove(5)\r\n",
    "print(list2)\r\n",
    "\r\n",
    "list2.remove(5)\r\n",
    "print(list2)\r\n",
    "\r\n",
    "list2.remove(5)\r\n",
    "print(list2)"
   ],
   "outputs": [
    {
     "output_type": "stream",
     "name": "stdout",
     "text": [
      "[0, 1, 2, 3, 4, 5, 6, 7, 8, 9]\n",
      "[0, 1, 2, 3, 4, 5, 6, 7, 8, 9, 12]\n",
      "[0, 1, 2, 3, 4, 5, 6, 7, 8, 9, 12, 13, 14]\n",
      "[0, 1, 2, 3, 4, 5, 6, 7, 8, 9, 12, 13, 14, 0, 1, 2, 3, 4, 5, 6, 7, 8, 9, 12, 13, 14]\n",
      "[0, 1, 2, 3, 4, 6, 7, 8, 9, 12, 13, 14, 0, 1, 2, 3, 4, 5, 6, 7, 8, 9, 12, 13, 14]\n",
      "[0, 1, 2, 3, 4, 6, 7, 8, 9, 12, 13, 14, 0, 1, 2, 3, 4, 6, 7, 8, 9, 12, 13, 14]\n"
     ]
    },
    {
     "output_type": "error",
     "ename": "ValueError",
     "evalue": "list.remove(x): x not in list",
     "traceback": [
      "\u001b[1;31m---------------------------------------------------------------------------\u001b[0m",
      "\u001b[1;31mValueError\u001b[0m                                Traceback (most recent call last)",
      "\u001b[1;32m<ipython-input-16-a7ba2c0fa1d6>\u001b[0m in \u001b[0;36m<module>\u001b[1;34m\u001b[0m\n\u001b[0;32m     17\u001b[0m \u001b[0mprint\u001b[0m\u001b[1;33m(\u001b[0m\u001b[0mlist2\u001b[0m\u001b[1;33m)\u001b[0m\u001b[1;33m\u001b[0m\u001b[1;33m\u001b[0m\u001b[0m\n\u001b[0;32m     18\u001b[0m \u001b[1;33m\u001b[0m\u001b[0m\n\u001b[1;32m---> 19\u001b[1;33m \u001b[0mlist2\u001b[0m\u001b[1;33m.\u001b[0m\u001b[0mremove\u001b[0m\u001b[1;33m(\u001b[0m\u001b[1;36m5\u001b[0m\u001b[1;33m)\u001b[0m\u001b[1;33m\u001b[0m\u001b[1;33m\u001b[0m\u001b[0m\n\u001b[0m\u001b[0;32m     20\u001b[0m \u001b[0mprint\u001b[0m\u001b[1;33m(\u001b[0m\u001b[0mlist2\u001b[0m\u001b[1;33m)\u001b[0m\u001b[1;33m\u001b[0m\u001b[1;33m\u001b[0m\u001b[0m\n",
      "\u001b[1;31mValueError\u001b[0m: list.remove(x): x not in list"
     ]
    }
   ],
   "metadata": {}
  },
  {
   "cell_type": "code",
   "execution_count": 5,
   "source": [
    "#further list manipulation\r\n",
    "list1 = [1, 3, 5, 6]\r\n",
    "list2 = list1\r\n",
    "list1[2:] = [7, 8]\r\n",
    "\r\n",
    "print(list1)\r\n",
    "print(list2) #list1 points towards same list\r\n",
    "\r\n",
    "print(list1 == list2)\r\n",
    "print(list1 is list2)"
   ],
   "outputs": [
    {
     "output_type": "stream",
     "name": "stdout",
     "text": [
      "[1, 3, 7, 8]\n",
      "[1, 3, 7, 8]\n",
      "True\n",
      "True\n"
     ]
    }
   ],
   "metadata": {}
  },
  {
   "cell_type": "code",
   "execution_count": 21,
   "source": [
    "#expand and shrink in place\r\n",
    "list1[2:] = [9, 10, 11]\r\n",
    "print(list1)\r\n",
    "\r\n",
    "list1[0:2] = [7]\r\n",
    "print(list1)"
   ],
   "outputs": [
    {
     "output_type": "stream",
     "name": "stdout",
     "text": [
      "[1, 3, 9, 10, 11]\n",
      "[7, 9, 10, 11]\n"
     ]
    }
   ],
   "metadata": {}
  },
  {
   "cell_type": "code",
   "execution_count": null,
   "source": [
    "#list membership\r\n",
    "if x in l:\r\n",
    "    l.remove(x) #safely removes x, but only 1st occurrence\r\n",
    "\r\n",
    "while x in l:\r\n",
    "    l.remove(x) #removes all occurrences of x in l  "
   ],
   "outputs": [],
   "metadata": {}
  }
 ],
 "metadata": {
  "orig_nbformat": 4,
  "language_info": {
   "name": "python",
   "version": "3.8.8",
   "mimetype": "text/x-python",
   "codemirror_mode": {
    "name": "ipython",
    "version": 3
   },
   "pygments_lexer": "ipython3",
   "nbconvert_exporter": "python",
   "file_extension": ".py"
  },
  "kernelspec": {
   "name": "python3",
   "display_name": "Python 3.8.8 64-bit ('base': conda)"
  },
  "interpreter": {
   "hash": "6c7dc6fca203e8e2b68c8b661a9790380b4275b7e2034d2258f38a3f6183b1bb"
  }
 },
 "nbformat": 4,
 "nbformat_minor": 2
}