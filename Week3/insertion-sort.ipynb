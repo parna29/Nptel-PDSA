{
 "cells": [
  {
   "cell_type": "code",
   "execution_count": 1,
   "source": [
    "def InsertionSort(seq):\r\n",
    "\r\n",
    "    for sliceEnd in range(len(seq)):\r\n",
    "\r\n",
    "        pos = sliceEnd\r\n",
    "        while pos > 0 and seq[pos] < seq[pos-1]:\r\n",
    "            (seq[pos], seq[pos-1]) = (seq[pos-1], seq[pos])\r\n",
    "            pos = pos - 1"
   ],
   "outputs": [],
   "metadata": {}
  },
  {
   "cell_type": "code",
   "execution_count": 2,
   "source": [
    "from datetime import datetime\r\n",
    "start = datetime.now()\r\n",
    "l = list(range(500, 0, -1))\r\n",
    "InsertionSort(l)\r\n",
    "print(datetime.now()-start)"
   ],
   "outputs": [
    {
     "output_type": "stream",
     "name": "stdout",
     "text": [
      "0:00:00.072211\n"
     ]
    }
   ],
   "metadata": {}
  },
  {
   "cell_type": "code",
   "execution_count": 3,
   "source": [
    "from datetime import datetime\r\n",
    "start = datetime.now()\r\n",
    "l = list(range(5000, 0, -1))\r\n",
    "InsertionSort(l)\r\n",
    "print(datetime.now()-start)"
   ],
   "outputs": [
    {
     "output_type": "stream",
     "name": "stdout",
     "text": [
      "0:00:07.675299\n"
     ]
    }
   ],
   "metadata": {}
  },
  {
   "cell_type": "code",
   "execution_count": 4,
   "source": [
    "from datetime import datetime\r\n",
    "start = datetime.now()\r\n",
    "l = list(range(0, 5000))\r\n",
    "InsertionSort(l)\r\n",
    "print(datetime.now()-start) #instant answer for sorted seq"
   ],
   "outputs": [
    {
     "output_type": "stream",
     "name": "stdout",
     "text": [
      "0:00:00\n"
     ]
    }
   ],
   "metadata": {}
  },
  {
   "cell_type": "code",
   "execution_count": 5,
   "source": [
    "from datetime import datetime\r\n",
    "start = datetime.now()\r\n",
    "l = list(range(0,1000000))\r\n",
    "InsertionSort(l)\r\n",
    "print(datetime.now()-start)"
   ],
   "outputs": [
    {
     "output_type": "stream",
     "name": "stdout",
     "text": [
      "0:00:00.208980\n"
     ]
    }
   ],
   "metadata": {}
  }
 ],
 "metadata": {
  "orig_nbformat": 4,
  "language_info": {
   "name": "python",
   "version": "3.8.8",
   "mimetype": "text/x-python",
   "codemirror_mode": {
    "name": "ipython",
    "version": 3
   },
   "pygments_lexer": "ipython3",
   "nbconvert_exporter": "python",
   "file_extension": ".py"
  },
  "kernelspec": {
   "name": "python3",
   "display_name": "Python 3.8.8 64-bit ('base': conda)"
  },
  "interpreter": {
   "hash": "6c7dc6fca203e8e2b68c8b661a9790380b4275b7e2034d2258f38a3f6183b1bb"
  }
 },
 "nbformat": 4,
 "nbformat_minor": 2
}