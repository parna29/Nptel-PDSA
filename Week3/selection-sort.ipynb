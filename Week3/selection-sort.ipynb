{
 "cells": [
  {
   "cell_type": "code",
   "execution_count": 1,
   "source": [
    "def SelectionSort(l):\r\n",
    "\r\n",
    "    for start in range(len(l)):\r\n",
    "\r\n",
    "        minpos = start\r\n",
    "        for i in range(start, len(l)):\r\n",
    "            if l[i] < l[minpos]:\r\n",
    "                minpos = i\r\n",
    "                \r\n",
    "        (l[start], l[minpos]) = (l[minpos], l[start])        "
   ],
   "outputs": [],
   "metadata": {}
  },
  {
   "cell_type": "code",
   "execution_count": 2,
   "source": [
    "#O(n) = n^2. Let's check what happens when input length > 5000\r\n",
    "l = [3, 7, 2]\r\n",
    "SelectionSort(l)\r\n",
    "print(l)"
   ],
   "outputs": [
    {
     "output_type": "stream",
     "name": "stdout",
     "text": [
      "[2, 3, 7]\n"
     ]
    }
   ],
   "metadata": {}
  },
  {
   "cell_type": "code",
   "execution_count": 7,
   "source": [
    "from datetime import datetime\r\n",
    "start = datetime.now()\r\n",
    "l = list(range(500, 0, -1))\r\n",
    "SelectionSort(l)\r\n",
    "print(datetime.now()-start)"
   ],
   "outputs": [
    {
     "output_type": "stream",
     "name": "stdout",
     "text": [
      "0:00:00.016710\n"
     ]
    }
   ],
   "metadata": {}
  },
  {
   "cell_type": "code",
   "execution_count": 8,
   "source": [
    "start = datetime.now()\r\n",
    "l = list(range(1000, 0, -1))\r\n",
    "SelectionSort(l)\r\n",
    "print(datetime.now()-start)"
   ],
   "outputs": [
    {
     "output_type": "stream",
     "name": "stdout",
     "text": [
      "0:00:00.048906\n"
     ]
    }
   ],
   "metadata": {}
  },
  {
   "cell_type": "code",
   "execution_count": 9,
   "source": [
    "start = datetime.now()\r\n",
    "l = list(range(2000, 0, -1))\r\n",
    "SelectionSort(l)\r\n",
    "print(datetime.now()-start)"
   ],
   "outputs": [
    {
     "output_type": "stream",
     "name": "stdout",
     "text": [
      "0:00:00.256277\n"
     ]
    }
   ],
   "metadata": {}
  },
  {
   "cell_type": "code",
   "execution_count": 10,
   "source": [
    "start = datetime.now()\r\n",
    "l = list(range(5000, 0, -1))\r\n",
    "SelectionSort(l)\r\n",
    "print(datetime.now()-start)"
   ],
   "outputs": [
    {
     "output_type": "stream",
     "name": "stdout",
     "text": [
      "0:00:01.312528\n"
     ]
    }
   ],
   "metadata": {}
  },
  {
   "cell_type": "code",
   "execution_count": 11,
   "source": [
    "start = datetime.now()\r\n",
    "l = list(range(6000, 0, -1))\r\n",
    "SelectionSort(l)\r\n",
    "print(datetime.now()-start)"
   ],
   "outputs": [
    {
     "output_type": "stream",
     "name": "stdout",
     "text": [
      "0:00:01.978057\n"
     ]
    }
   ],
   "metadata": {}
  },
  {
   "cell_type": "code",
   "execution_count": null,
   "source": [],
   "outputs": [],
   "metadata": {}
  }
 ],
 "metadata": {
  "orig_nbformat": 4,
  "language_info": {
   "name": "python",
   "version": "3.8.8",
   "mimetype": "text/x-python",
   "codemirror_mode": {
    "name": "ipython",
    "version": 3
   },
   "pygments_lexer": "ipython3",
   "nbconvert_exporter": "python",
   "file_extension": ".py"
  },
  "kernelspec": {
   "name": "python3",
   "display_name": "Python 3.8.8 64-bit ('base': conda)"
  },
  "interpreter": {
   "hash": "6c7dc6fca203e8e2b68c8b661a9790380b4275b7e2034d2258f38a3f6183b1bb"
  }
 },
 "nbformat": 4,
 "nbformat_minor": 2
}