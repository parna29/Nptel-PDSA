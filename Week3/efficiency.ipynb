{
 "cells": [
  {
   "cell_type": "code",
   "execution_count": 1,
   "source": [
    "#speed4\r\n",
    "from datetime import datetime\r\n",
    "\r\n",
    "start = datetime.now()\r\n",
    "for i in range(10000):\r\n",
    "    m = i\r\n",
    "print(m) \r\n",
    "print(datetime.now()-start)   "
   ],
   "outputs": [
    {
     "output_type": "stream",
     "name": "stdout",
     "text": [
      "9999\n",
      "0:00:00.002992\n"
     ]
    }
   ],
   "metadata": {}
  },
  {
   "cell_type": "code",
   "execution_count": 2,
   "source": [
    "#speed5\r\n",
    "\r\n",
    "start = datetime.now()\r\n",
    "for i in range(100000):\r\n",
    "    m = i\r\n",
    "print(m)  \r\n",
    "print(datetime.now()-start)  "
   ],
   "outputs": [
    {
     "output_type": "stream",
     "name": "stdout",
     "text": [
      "99999\n",
      "0:00:00.009972\n"
     ]
    }
   ],
   "metadata": {}
  },
  {
   "cell_type": "code",
   "execution_count": 3,
   "source": [
    "#speed6\r\n",
    "\r\n",
    "start = datetime.now()\r\n",
    "for i in range(1000000):\r\n",
    "    m = i\r\n",
    "print(m)  \r\n",
    "print(datetime.now()-start)  "
   ],
   "outputs": [
    {
     "output_type": "stream",
     "name": "stdout",
     "text": [
      "999999\n",
      "0:00:00.109706\n"
     ]
    }
   ],
   "metadata": {}
  },
  {
   "cell_type": "code",
   "execution_count": 4,
   "source": [
    "#speed7, approx 1 second\r\n",
    "\r\n",
    "start = datetime.now()\r\n",
    "for i in range(10000000):\r\n",
    "    m = i\r\n",
    "print(m)  \r\n",
    "print(datetime.now()-start)  "
   ],
   "outputs": [
    {
     "output_type": "stream",
     "name": "stdout",
     "text": [
      "9999999\n",
      "0:00:00.991347\n"
     ]
    }
   ],
   "metadata": {}
  },
  {
   "cell_type": "code",
   "execution_count": 5,
   "source": [
    "#speed8\r\n",
    "\r\n",
    "start = datetime.now()\r\n",
    "for i in range(100000000):\r\n",
    "    m = i\r\n",
    "print(m)  \r\n",
    "print(datetime.now()-start)  "
   ],
   "outputs": [
    {
     "output_type": "stream",
     "name": "stdout",
     "text": [
      "99999999\n",
      "0:00:08.705709\n"
     ]
    }
   ],
   "metadata": {}
  },
  {
   "cell_type": "code",
   "execution_count": 6,
   "source": [
    "#speed9\r\n",
    "\r\n",
    "start = datetime.now()\r\n",
    "for i in range(1000000000):\r\n",
    "    m = i\r\n",
    "print(m)  \r\n",
    "print(datetime.now()-start)  "
   ],
   "outputs": [
    {
     "output_type": "stream",
     "name": "stdout",
     "text": [
      "999999999\n",
      "0:01:27.587749\n"
     ]
    }
   ],
   "metadata": {}
  }
 ],
 "metadata": {
  "orig_nbformat": 4,
  "language_info": {
   "name": "python",
   "version": "3.8.8",
   "mimetype": "text/x-python",
   "codemirror_mode": {
    "name": "ipython",
    "version": 3
   },
   "pygments_lexer": "ipython3",
   "nbconvert_exporter": "python",
   "file_extension": ".py"
  },
  "kernelspec": {
   "name": "python3",
   "display_name": "Python 3.8.8 64-bit ('base': conda)"
  },
  "interpreter": {
   "hash": "6c7dc6fca203e8e2b68c8b661a9790380b4275b7e2034d2258f38a3f6183b1bb"
  }
 },
 "nbformat": 4,
 "nbformat_minor": 2
}