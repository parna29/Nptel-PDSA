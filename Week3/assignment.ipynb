{
 "cells": [
  {
   "cell_type": "code",
   "execution_count": 25,
   "source": [
    "def expanding(l):\r\n",
    "    for i in range(len(l)-2):\r\n",
    "        if ( abs(l[i+2]-l[i+1]) > abs(l[i+1]-l[i]) ):\r\n",
    "            Answer = True\r\n",
    "        else:\r\n",
    "            Answer = False\r\n",
    "            return Answer   \r\n",
    "    return Answer\r\n",
    "\r\n",
    "print(expanding([11,35,77,21,98]))    \r\n",
    "print(expanding([11,38,79,25,-36])) \r\n",
    "print(expanding([-1,2,-3,4,-5,6,-7,8,-9,10,-11,12]))  \r\n",
    "print(expanding([-1,2,-3,4,-5,6,-7,8,-9,10,-11,-32]))            "
   ],
   "outputs": [
    {
     "output_type": "stream",
     "name": "stdout",
     "text": [
      "True\n",
      "True\n",
      "True\n",
      "False\n"
     ]
    }
   ],
   "metadata": {}
  },
  {
   "cell_type": "code",
   "execution_count": 28,
   "source": [
    "def sumsquare(l):\r\n",
    "    odd = even = 0\r\n",
    "    odd = sum([x**2 for x in l if x%2 != 0 ])\r\n",
    "    even = sum([x**2 for x in l if x%2 == 0 ])\r\n",
    "    return([odd, even])\r\n",
    "\r\n",
    "print(sumsquare([1,3,5]))   \r\n",
    "print(sumsquare([1,-2,-3,4,5,6]))\r\n",
    "print(sumsquare([1,3,5,7,9,11,13]))\r\n",
    "print(sumsquare([0,2,4,6,8,10,12]))\r\n",
    "print(sumsquare([0,1,-1,0,2,-2,3,-3])) "
   ],
   "outputs": [
    {
     "output_type": "stream",
     "name": "stdout",
     "text": [
      "[35, 0]\n",
      "[35, 56]\n",
      "[455, 0]\n",
      "[0, 364]\n",
      "[20, 8]\n"
     ]
    }
   ],
   "metadata": {}
  },
  {
   "cell_type": "code",
   "execution_count": 34,
   "source": [
    "def transpose(m):\r\n",
    "    result = [[m[j][i] for j in range(len(m))] for i in range(len(m[0]))]\r\n",
    "    return result\r\n",
    "\r\n",
    "print(transpose([[1,2,3],[4,5,6]]))\r\n",
    "print(transpose([[1,2,3],[4,5,6],[7,8,9]]))\r\n",
    "print(transpose([[1,2,3,4]]))\r\n",
    "print(transpose([[1],[2],[3],[4]]))  \r\n",
    "print(transpose([[1,0,0],[0,1,0],[0,0,1]]))  "
   ],
   "outputs": [
    {
     "output_type": "stream",
     "name": "stdout",
     "text": [
      "[[1, 4], [2, 5], [3, 6]]\n",
      "[[1, 4, 7], [2, 5, 8], [3, 6, 9]]\n",
      "[[1], [2], [3], [4]]\n",
      "[[1, 2, 3, 4]]\n",
      "[[1, 0, 0], [0, 1, 0], [0, 0, 1]]\n"
     ]
    }
   ],
   "metadata": {}
  },
  {
   "cell_type": "code",
   "execution_count": null,
   "source": [],
   "outputs": [],
   "metadata": {}
  }
 ],
 "metadata": {
  "orig_nbformat": 4,
  "language_info": {
   "name": "python",
   "version": "3.8.8",
   "mimetype": "text/x-python",
   "codemirror_mode": {
    "name": "ipython",
    "version": 3
   },
   "pygments_lexer": "ipython3",
   "nbconvert_exporter": "python",
   "file_extension": ".py"
  },
  "kernelspec": {
   "name": "python3",
   "display_name": "Python 3.8.8 64-bit ('base': conda)"
  },
  "interpreter": {
   "hash": "6c7dc6fca203e8e2b68c8b661a9790380b4275b7e2034d2258f38a3f6183b1bb"
  }
 },
 "nbformat": 4,
 "nbformat_minor": 2
}