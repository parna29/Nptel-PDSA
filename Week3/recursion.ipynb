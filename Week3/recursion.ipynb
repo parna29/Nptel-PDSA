{
 "cells": [
  {
   "cell_type": "code",
   "execution_count": null,
   "source": [
    "def factorial(n):\r\n",
    "    if n == 0:\r\n",
    "        return(1)\r\n",
    "    else:\r\n",
    "        return(n * factorial(n-1))    "
   ],
   "outputs": [],
   "metadata": {}
  },
  {
   "cell_type": "code",
   "execution_count": null,
   "source": [
    "def multiply(m, n):\r\n",
    "    if n == 1:\r\n",
    "        return(m)\r\n",
    "    else:\r\n",
    "        return(m + multiply(m, n-1))    "
   ],
   "outputs": [],
   "metadata": {}
  },
  {
   "cell_type": "code",
   "execution_count": null,
   "source": [
    "#length of list\r\n",
    "def length(l):\r\n",
    "    if l == []:\r\n",
    "        return(0)\r\n",
    "    else:\r\n",
    "        return(1 + length(l[1:]))    "
   ],
   "outputs": [],
   "metadata": {}
  },
  {
   "cell_type": "code",
   "execution_count": null,
   "source": [
    "#sum of a list of numbers\r\n",
    "def sumlist(l):\r\n",
    "    if l == []:\r\n",
    "        return[]\r\n",
    "    else:\r\n",
    "        return(l[0] + sumlist(l[1:]))    "
   ],
   "outputs": [],
   "metadata": {}
  },
  {
   "cell_type": "code",
   "execution_count": 12,
   "source": [
    "#recursive insertion sort\r\n",
    "def InsertionSort(seq):\r\n",
    "    isort(seq, len(seq))\r\n",
    "\r\n",
    "def isort(seq, k):\r\n",
    "    if k > 1:\r\n",
    "        print('sending into isort')\r\n",
    "        isort(seq, k-1)\r\n",
    "        print('isort', seq)\r\n",
    "        insert(seq, k-1)\r\n",
    "        print('insert', seq)\r\n",
    "\r\n",
    "def insert(seq, k):\r\n",
    "    pos = k \r\n",
    "    while pos > 0 and seq[pos] < seq[pos-1]:\r\n",
    "            (seq[pos], seq[pos-1]) = (seq[pos-1], seq[pos])\r\n",
    "            pos = pos - 1           "
   ],
   "outputs": [],
   "metadata": {}
  },
  {
   "cell_type": "code",
   "execution_count": 13,
   "source": [
    "l = [9,8,7,6,5,4]\r\n",
    "InsertionSort(l)"
   ],
   "outputs": [
    {
     "output_type": "stream",
     "name": "stdout",
     "text": [
      "sending into isort\n",
      "sending into isort\n",
      "sending into isort\n",
      "sending into isort\n",
      "sending into isort\n",
      "isort [9, 8, 7, 6, 5, 4]\n",
      "insert [8, 9, 7, 6, 5, 4]\n",
      "isort [8, 9, 7, 6, 5, 4]\n",
      "insert [7, 8, 9, 6, 5, 4]\n",
      "isort [7, 8, 9, 6, 5, 4]\n",
      "insert [6, 7, 8, 9, 5, 4]\n",
      "isort [6, 7, 8, 9, 5, 4]\n",
      "insert [5, 6, 7, 8, 9, 4]\n",
      "isort [5, 6, 7, 8, 9, 4]\n",
      "insert [4, 5, 6, 7, 8, 9]\n"
     ]
    }
   ],
   "metadata": {}
  },
  {
   "cell_type": "code",
   "execution_count": 4,
   "source": [
    "l"
   ],
   "outputs": [
    {
     "output_type": "execute_result",
     "data": {
      "text/plain": [
       "[1, 2, 5, 6, 7, 10]"
      ]
     },
     "metadata": {},
     "execution_count": 4
    }
   ],
   "metadata": {}
  },
  {
   "cell_type": "code",
   "execution_count": null,
   "source": [],
   "outputs": [],
   "metadata": {}
  }
 ],
 "metadata": {
  "orig_nbformat": 4,
  "language_info": {
   "name": "python",
   "version": "3.8.8",
   "mimetype": "text/x-python",
   "codemirror_mode": {
    "name": "ipython",
    "version": 3
   },
   "pygments_lexer": "ipython3",
   "nbconvert_exporter": "python",
   "file_extension": ".py"
  },
  "kernelspec": {
   "name": "python3",
   "display_name": "Python 3.8.8 64-bit ('base': conda)"
  },
  "interpreter": {
   "hash": "6c7dc6fca203e8e2b68c8b661a9790380b4275b7e2034d2258f38a3f6183b1bb"
  }
 },
 "nbformat": 4,
 "nbformat_minor": 2
}